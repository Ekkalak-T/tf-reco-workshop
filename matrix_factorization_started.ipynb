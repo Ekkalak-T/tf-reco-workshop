{
 "cells": [
  {
   "cell_type": "code",
   "execution_count": 1,
   "metadata": {},
   "outputs": [
    {
     "name": "stdout",
     "output_type": "stream",
     "text": [
      "1.2.0-rc1\n"
     ]
    }
   ],
   "source": [
    "import tensorflow as tf\n",
    "import numpy as np\n",
    "from tensorflow.contrib import layers\n",
    "from data import dataprep\n",
    "print(tf.__version__)"
   ]
  },
  {
   "cell_type": "code",
   "execution_count": 2,
   "metadata": {
    "collapsed": true
   },
   "outputs": [],
   "source": [
    "train_dict, test_dict = dataprep.mf_train_test()"
   ]
  },
  {
   "cell_type": "code",
   "execution_count": 3,
   "metadata": {
    "collapsed": true
   },
   "outputs": [],
   "source": [
    "n_user = train_dict['user_id'].max() + 1\n",
    "n_movie = train_dict['movie_id'].max() + 1\n",
    "n_dim = 20\n",
    "reg_param = 0.01\n",
    "learning_rate = 0.01"
   ]
  },
  {
   "cell_type": "code",
   "execution_count": 5,
   "metadata": {
    "collapsed": true
   },
   "outputs": [],
   "source": [
    "# create input place_holders\n",
    "users = tf.placeholder(shape=[None], dtype=tf.int64)\n",
    "movies = tf.placeholder(shape=[None], dtype=tf.int64)\n",
    "ratings = tf.placeholder(shape=[None], dtype=tf.float32)"
   ]
  },
  {
   "cell_type": "code",
   "execution_count": 7,
   "metadata": {},
   "outputs": [],
   "source": [
    "with tf.variable_scope(\"embedding\"):\n",
    "    user_weight = tf.get_variable(\"user_w\"\n",
    "                                  , shape=[n_user, n_dim]\n",
    "                                  , dtype=tf.float32\n",
    "                                  , initializer=layers.xavier_initializer())\n",
    "    user_bias = tf.get_variable(\"user_b\"\n",
    "                                , shape=[n_user]\n",
    "                                , dtype=tf.float32\n",
    "                                , initializer=tf.zeros_initializer)\n",
    "    movie_weight = tf.get_variable(\"movie_w\"\n",
    "                                   , shape=[n_movie, n_dim]\n",
    "                                   , dtype=tf.float32\n",
    "                                   , initializer=layers.xavier_initializer())\n",
    "    movie_bias = tf.get_variable(\"movie_b\"\n",
    "                                 , shape=[n_movie]\n",
    "                                 , dtype=tf.float32\n",
    "                                 , initializer=tf.zeros_initializer)"
   ]
  },
  {
   "cell_type": "code",
   "execution_count": 8,
   "metadata": {
    "collapsed": true
   },
   "outputs": [],
   "source": [
    "with tf.name_scope(\"inference\"):\n",
    "    user_emb = tf.nn.embedding_lookup(user_weight, users)\n",
    "    u_b = tf.nn.embedding_lookup(user_bias, users)\n",
    "    movie_emb = tf.nn.embedding_lookup(movie_weight, movies)\n",
    "    m_b = tf.nn.embedding_lookup(movie_bias, movies)\n",
    "    pred = tf.reduce_sum(tf.multiply(user_emb, movie_emb), 1) + u_b + m_b"
   ]
  },
  {
   "cell_type": "code",
   "execution_count": 9,
   "metadata": {},
   "outputs": [],
   "source": [
    "with tf.name_scope(\"loss\"):\n",
    "    reg_loss = layers.apply_regularization(layers.l2_regularizer(scale=reg_param),\n",
    "                                           weights_list=[user_weight, movie_weight])\n",
    "    loss = tf.nn.l2_loss(pred - ratings) + reg_loss\n",
    "    tf.summary.scalar('l2loss', loss)\n",
    "    train_ops = tf.train.AdamOptimizer(learning_rate=learning_rate).minimize(loss)\n",
    "    rmse = tf.sqrt(tf.reduce_mean(tf.pow(pred - ratings, 2)))\n",
    "    tf.summary.scalar('rmse', rmse)"
   ]
  },
  {
   "cell_type": "code",
   "execution_count": 10,
   "metadata": {},
   "outputs": [
    {
     "name": "stdout",
     "output_type": "stream",
     "text": [
      "train rmse: 3.686 , test rmse 3.691\n",
      "train rmse: 3.466 , test rmse 3.480\n",
      "train rmse: 3.060 , test rmse 3.064\n",
      "train rmse: 2.244 , test rmse 2.269\n",
      "train rmse: 1.248 , test rmse 1.283\n",
      "train rmse: 1.065 , test rmse 1.096\n",
      "train rmse: 0.955 , test rmse 1.007\n",
      "train rmse: 0.905 , test rmse 0.970\n",
      "train rmse: 0.894 , test rmse 0.963\n",
      "train rmse: 0.878 , test rmse 0.948\n",
      "train rmse: 0.878 , test rmse 0.944\n",
      "train rmse: 0.861 , test rmse 0.940\n",
      "train rmse: 0.868 , test rmse 0.939\n",
      "train rmse: 0.855 , test rmse 0.938\n",
      "train rmse: 0.849 , test rmse 0.937\n",
      "train rmse: 0.836 , test rmse 0.936\n",
      "train rmse: 0.833 , test rmse 0.937\n",
      "train rmse: 0.815 , test rmse 0.936\n",
      "train rmse: 0.809 , test rmse 0.937\n",
      "train rmse: 0.817 , test rmse 0.937\n"
     ]
    }
   ],
   "source": [
    "with tf.Session() as sess:\n",
    "    sess.run(tf.global_variables_initializer())\n",
    "    train_input_dict = {users: train_dict['user_id']\n",
    "        , movies: train_dict['movie_id']\n",
    "        , ratings: train_dict['rating']}\n",
    "    test_input_dict = {users: test_dict['user_id']\n",
    "        , movies: test_dict['movie_id']\n",
    "        , ratings: test_dict['rating']}\n",
    "    for i in range(200):\n",
    "        _, loss_val = sess.run([train_ops, loss], feed_dict=train_input_dict)\n",
    "        if i % 10 == 0:\n",
    "            rmse_train = sess.run(rmse, feed_dict=train_input_dict)\n",
    "            rmse_test = sess.run(rmse, feed_dict=test_input_dict)\n",
    "            print(\"train rmse: %.3f , test rmse %.3f\" % (rmse_train, rmse_test))"
   ]
  }
 ],
 "metadata": {
  "kernelspec": {
   "display_name": "Python 3",
   "language": "python",
   "name": "python3"
  },
  "language_info": {
   "codemirror_mode": {
    "name": "ipython",
    "version": 3.0
   },
   "file_extension": ".py",
   "mimetype": "text/x-python",
   "name": "python",
   "nbconvert_exporter": "python",
   "pygments_lexer": "ipython3",
   "version": "3.6.1"
  }
 },
 "nbformat": 4,
 "nbformat_minor": 0
}