{
 "cells": [
  {
   "cell_type": "code",
   "execution_count": 1,
   "metadata": {
    "collapsed": true
   },
   "outputs": [],
   "source": [
    "import tensorflow as tf\n",
    "import numpy as np\n",
    "from tensorflow.contrib import layers\n",
    "from data import dataprep"
   ]
  },
  {
   "cell_type": "code",
   "execution_count": 2,
   "metadata": {
    "collapsed": true
   },
   "outputs": [],
   "source": [
    "train_dict, test_dict = dataprep.mf_train_test()"
   ]
  },
  {
   "cell_type": "code",
   "execution_count": 3,
   "metadata": {
    "collapsed": true
   },
   "outputs": [],
   "source": [
    "n_user = train_dict['user_id'].max() + 1\n",
    "n_movie = train_dict['movie_id'].max() + 1\n",
    "n_dim = 20\n",
    "reg_param = 0.01\n",
    "learning_rate = 0.01"
   ]
  },
  {
   "cell_type": "code",
   "execution_count": 4,
   "metadata": {
    "collapsed": true
   },
   "outputs": [],
   "source": [
    "# users = tf.placeholder(shape=[None], dtype=tf.int32)\n",
    "# movies = tf.placeholder(shape=[None], dtype=tf.int32)\n",
    "# ratings = tf.placeholder(shape=[None], dtype=tf.float32)"
   ]
  },
  {
   "cell_type": "code",
   "execution_count": 5,
   "metadata": {
    "collapsed": true
   },
   "outputs": [],
   "source": [
    "trainBatch = tf.train.shuffle_batch(train_dict, batch_size=10000, capacity=80000, min_after_dequeue=20000,\n",
    "                                    num_threads=2,\n",
    "                                    enqueue_many=True)\n",
    "testBatch = tf.train.shuffle_batch(test_dict, batch_size=test_dict['user_id'].shape[0],\n",
    "                                   capacity=test_dict['user_id'].shape[0], min_after_dequeue=0, num_threads=1,\n",
    "                                   enqueue_many=True)\n",
    "def get_train_data(): return trainBatch['user_id'], trainBatch['movie_id'], trainBatch['rating']\n",
    "def get_test_data(): return testBatch['user_id'], testBatch['movie_id'], testBatch['rating']\n",
    "is_train = tf.placeholder(dtype=tf.bool)\n",
    "users, movies, ratings = tf.cond(is_train, get_train_data, get_test_data)"
   ]
  },
  {
   "cell_type": "code",
   "execution_count": 6,
   "metadata": {
    "collapsed": true
   },
   "outputs": [],
   "source": [
    "with tf.variable_scope(\"embedding\"):\n",
    "    user_weight = tf.get_variable(\"user_w\"\n",
    "                                  , shape=[n_user, n_dim]\n",
    "                                  , dtype=tf.float32\n",
    "                                  , initializer=layers.xavier_initializer())\n",
    "    user_bias = tf.get_variable(\"user_b\"\n",
    "                                , shape=[n_user]\n",
    "                                , dtype=tf.float32\n",
    "                                , initializer=tf.zeros_initializer)\n",
    "    movie_weight = tf.get_variable(\"movie_w\"\n",
    "                                   , shape=[n_movie, n_dim]\n",
    "                                   , dtype=tf.float32\n",
    "                                   , initializer=layers.xavier_initializer())\n",
    "    movie_bias = tf.get_variable(\"movie_b\"\n",
    "                                 , shape=[n_movie]\n",
    "                                 , dtype=tf.float32\n",
    "                                 , initializer=tf.zeros_initializer)"
   ]
  },
  {
   "cell_type": "code",
   "execution_count": 7,
   "metadata": {
    "collapsed": true
   },
   "outputs": [],
   "source": [
    "with tf.name_scope(\"inference\"):\n",
    "    user_emb = tf.nn.embedding_lookup(user_weight, users)\n",
    "    u_b = tf.nn.embedding_lookup(user_bias, users)\n",
    "    movie_emb = tf.nn.embedding_lookup(movie_weight, movies)\n",
    "    m_b = tf.nn.embedding_lookup(movie_bias, movies)\n",
    "    pred = tf.reduce_sum(tf.multiply(user_emb, movie_emb), 1) + u_b + m_b\n",
    "\n",
    "with tf.name_scope(\"loss\"):\n",
    "    reg_loss = layers.apply_regularization(layers.l2_regularizer(scale=reg_param),\n",
    "                                           weights_list=[user_weight, movie_weight])\n",
    "    loss = tf.nn.l2_loss(pred - ratings) + reg_loss\n",
    "    tf.summary.scalar('l2loss', loss)\n",
    "    train_ops = tf.train.AdamOptimizer(learning_rate=learning_rate).minimize(loss)\n",
    "    rmse = tf.sqrt(tf.reduce_mean(tf.pow(pred - ratings, 2)))\n",
    "    tf.summary.scalar('rmse', rmse)\n",
    "    merged = tf.summary.merge_all()"
   ]
  },
  {
   "cell_type": "code",
   "execution_count": 8,
   "metadata": {},
   "outputs": [],
   "source": [
    "# with tf.Session() as sess:\n",
    "#     sess.run(tf.global_variables_initializer())\n",
    "#     train_input_dict = {users: train_dict['user_id']\n",
    "#         , movies: train_dict['movie_id']\n",
    "#         , ratings: train_dict['rating']}\n",
    "#     test_input_dict = {users: test_dict['user_id']\n",
    "#         , movies: test_dict['movie_id']\n",
    "#         , ratings: test_dict['rating']}\n",
    "#     for i in range(200):\n",
    "#         _, loss_val = sess.run([train_ops, loss], feed_dict=train_input_dict)\n",
    "#         if i % 10 == 0:\n",
    "#             rmse_train = sess.run(rmse, feed_dict=train_input_dict)\n",
    "#             rmse_test = sess.run(rmse, feed_dict=test_input_dict)\n",
    "#             print(\"train rmse: %.3f , test rmse %.3f\" % (rmse_train, rmse_test))"
   ]
  },
  {
   "cell_type": "code",
   "execution_count": 9,
   "metadata": {},
   "outputs": [
    {
     "name": "stdout",
     "output_type": "stream",
     "text": [
      "train rmse: 3.688 , test rmse 3.691\n",
      "train rmse: 3.470 , test rmse 3.478\n",
      "train rmse: 3.008 , test rmse 3.028\n",
      "train rmse: 2.146 , test rmse 2.153\n",
      "train rmse: 1.154 , test rmse 1.182\n",
      "train rmse: 1.084 , test rmse 1.116\n",
      "train rmse: 0.948 , test rmse 0.994\n",
      "train rmse: 0.937 , test rmse 0.979\n",
      "train rmse: 0.916 , test rmse 0.965\n",
      "train rmse: 0.898 , test rmse 0.958\n",
      "train rmse: 0.909 , test rmse 0.956\n",
      "train rmse: 0.909 , test rmse 0.956\n",
      "train rmse: 0.902 , test rmse 0.956\n",
      "train rmse: 0.891 , test rmse 0.955\n",
      "train rmse: 0.901 , test rmse 0.954\n",
      "train rmse: 0.889 , test rmse 0.954\n",
      "train rmse: 0.892 , test rmse 0.955\n",
      "train rmse: 0.881 , test rmse 0.953\n",
      "train rmse: 0.877 , test rmse 0.952\n",
      "train rmse: 0.868 , test rmse 0.952\n"
     ]
    }
   ],
   "source": [
    "with tf.Session() as sess:\n",
    "    summaries_dir = '_summary/mf'\n",
    "    train_writer = tf.summary.FileWriter(summaries_dir + '/train',\n",
    "                                         sess.graph)\n",
    "    test_writer = tf.summary.FileWriter(summaries_dir + '/test',\n",
    "                                        sess.graph)\n",
    "    tf.global_variables_initializer().run()\n",
    "    coord = tf.train.Coordinator()\n",
    "    threads = tf.train.start_queue_runners(coord=coord)\n",
    "    for i in range(200):\n",
    "        _, loss_val = sess.run([train_ops, loss], feed_dict={is_train: True})\n",
    "        if i % 10 == 0:\n",
    "            rmse_train, train_summary = sess.run([rmse, merged], feed_dict={is_train: True})\n",
    "            rmse_test, test_summary = sess.run([rmse, merged], feed_dict={is_train: False})\n",
    "            print(\"train rmse: %.3f , test rmse %.3f\" % (rmse_train, rmse_test))\n",
    "            train_writer.add_summary(train_summary, i)\n",
    "            test_writer.add_summary(test_summary, i)\n",
    "    coord.request_stop()\n",
    "    coord.join(threads)"
   ]
  }
 ],
 "metadata": {
  "kernelspec": {
   "display_name": "Python 3",
   "language": "python",
   "name": "python3"
  },
  "language_info": {
   "codemirror_mode": {
    "name": "ipython",
    "version": 3
   },
   "file_extension": ".py",
   "mimetype": "text/x-python",
   "name": "python",
   "nbconvert_exporter": "python",
   "pygments_lexer": "ipython3",
   "version": "3.6.1"
  }
 },
 "nbformat": 4,
 "nbformat_minor": 1
}
